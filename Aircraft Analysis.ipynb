{
 "cells": [
  {
   "cell_type": "markdown",
   "metadata": {},
   "source": [
    "![example](aviation.jpg)"
   ]
  },
  {
   "cell_type": "markdown",
   "metadata": {},
   "source": [
    "# Expansion into aviation\n",
    "\n",
    "**Authors:** Wambui Kamotho\n",
    "***"
   ]
  },
  {
   "cell_type": "markdown",
   "metadata": {},
   "source": [
    "## Overview\n",
    "\n",
    "\n",
    "This project analyzes an extensive list of aviation accidents which has over 80,000 entries recorded over more than a hundred years. More than three fourths of the accidents recorded occur on flights with personal or training purposes. However, when it comes to make and model, we cannot definitevely determine if one is more prone to accidents than others because we do not have information on flights that include those that were not in accidents. The company can use these analyses to determining which aircrafts are low risk."
   ]
  },
  {
   "cell_type": "markdown",
   "metadata": {},
   "source": [
    "![example](plane.jpg)"
   ]
  },
  {
   "cell_type": "markdown",
   "metadata": {},
   "source": [
    "## Business Problem\n",
    "\n",
    "\n",
    "The company would like to know which aircraft is the most low-risk, and therefor a good place to start in their venture into aviation. \n",
    "***"
   ]
  },
  {
   "cell_type": "markdown",
   "metadata": {},
   "source": [
    "## Data Understanding\n",
    "\n",
    "The data set being utilised in this for this analysis is a list of aviation accidents, this includes helicopter and other flying vessels. The location of the accident is recorded, details of the aircrafts such as make and model, as well as the number and severity of injuries. "
   ]
  },
  {
   "cell_type": "code",
   "execution_count": 1,
   "metadata": {},
   "outputs": [],
   "source": [
    "# Import standard packages\n",
    "import pandas as pd\n",
    "import numpy as np\n",
    "import matplotlib.pyplot as plt\n",
    "import seaborn as sns\n",
    "\n",
    "%matplotlib inline"
   ]
  },
  {
   "cell_type": "code",
   "execution_count": 2,
   "metadata": {},
   "outputs": [
    {
     "name": "stdout",
     "output_type": "stream",
     "text": [
      "(88889, 31)\n"
     ]
    },
    {
     "data": {
      "text/html": [
       "<div>\n",
       "<style scoped>\n",
       "    .dataframe tbody tr th:only-of-type {\n",
       "        vertical-align: middle;\n",
       "    }\n",
       "\n",
       "    .dataframe tbody tr th {\n",
       "        vertical-align: top;\n",
       "    }\n",
       "\n",
       "    .dataframe thead th {\n",
       "        text-align: right;\n",
       "    }\n",
       "</style>\n",
       "<table border=\"1\" class=\"dataframe\">\n",
       "  <thead>\n",
       "    <tr style=\"text-align: right;\">\n",
       "      <th></th>\n",
       "      <th>Event.Id</th>\n",
       "      <th>Investigation.Type</th>\n",
       "      <th>Accident.Number</th>\n",
       "      <th>Event.Date</th>\n",
       "      <th>Location</th>\n",
       "      <th>Country</th>\n",
       "      <th>Latitude</th>\n",
       "      <th>Longitude</th>\n",
       "      <th>Airport.Code</th>\n",
       "      <th>Airport.Name</th>\n",
       "      <th>...</th>\n",
       "      <th>Purpose.of.flight</th>\n",
       "      <th>Air.carrier</th>\n",
       "      <th>Total.Fatal.Injuries</th>\n",
       "      <th>Total.Serious.Injuries</th>\n",
       "      <th>Total.Minor.Injuries</th>\n",
       "      <th>Total.Uninjured</th>\n",
       "      <th>Weather.Condition</th>\n",
       "      <th>Broad.phase.of.flight</th>\n",
       "      <th>Report.Status</th>\n",
       "      <th>Publication.Date</th>\n",
       "    </tr>\n",
       "  </thead>\n",
       "  <tbody>\n",
       "    <tr>\n",
       "      <th>0</th>\n",
       "      <td>20001218X45444</td>\n",
       "      <td>Accident</td>\n",
       "      <td>SEA87LA080</td>\n",
       "      <td>1948-10-24</td>\n",
       "      <td>MOOSE CREEK, ID</td>\n",
       "      <td>United States</td>\n",
       "      <td>NaN</td>\n",
       "      <td>NaN</td>\n",
       "      <td>NaN</td>\n",
       "      <td>NaN</td>\n",
       "      <td>...</td>\n",
       "      <td>Personal</td>\n",
       "      <td>NaN</td>\n",
       "      <td>2.0</td>\n",
       "      <td>0.0</td>\n",
       "      <td>0.0</td>\n",
       "      <td>0.0</td>\n",
       "      <td>UNK</td>\n",
       "      <td>Cruise</td>\n",
       "      <td>Probable Cause</td>\n",
       "      <td>NaN</td>\n",
       "    </tr>\n",
       "    <tr>\n",
       "      <th>1</th>\n",
       "      <td>20001218X45447</td>\n",
       "      <td>Accident</td>\n",
       "      <td>LAX94LA336</td>\n",
       "      <td>1962-07-19</td>\n",
       "      <td>BRIDGEPORT, CA</td>\n",
       "      <td>United States</td>\n",
       "      <td>NaN</td>\n",
       "      <td>NaN</td>\n",
       "      <td>NaN</td>\n",
       "      <td>NaN</td>\n",
       "      <td>...</td>\n",
       "      <td>Personal</td>\n",
       "      <td>NaN</td>\n",
       "      <td>4.0</td>\n",
       "      <td>0.0</td>\n",
       "      <td>0.0</td>\n",
       "      <td>0.0</td>\n",
       "      <td>UNK</td>\n",
       "      <td>Unknown</td>\n",
       "      <td>Probable Cause</td>\n",
       "      <td>19-09-1996</td>\n",
       "    </tr>\n",
       "    <tr>\n",
       "      <th>2</th>\n",
       "      <td>20061025X01555</td>\n",
       "      <td>Accident</td>\n",
       "      <td>NYC07LA005</td>\n",
       "      <td>1974-08-30</td>\n",
       "      <td>Saltville, VA</td>\n",
       "      <td>United States</td>\n",
       "      <td>36.922223</td>\n",
       "      <td>-81.878056</td>\n",
       "      <td>NaN</td>\n",
       "      <td>NaN</td>\n",
       "      <td>...</td>\n",
       "      <td>Personal</td>\n",
       "      <td>NaN</td>\n",
       "      <td>3.0</td>\n",
       "      <td>NaN</td>\n",
       "      <td>NaN</td>\n",
       "      <td>NaN</td>\n",
       "      <td>IMC</td>\n",
       "      <td>Cruise</td>\n",
       "      <td>Probable Cause</td>\n",
       "      <td>26-02-2007</td>\n",
       "    </tr>\n",
       "    <tr>\n",
       "      <th>3</th>\n",
       "      <td>20001218X45448</td>\n",
       "      <td>Accident</td>\n",
       "      <td>LAX96LA321</td>\n",
       "      <td>1977-06-19</td>\n",
       "      <td>EUREKA, CA</td>\n",
       "      <td>United States</td>\n",
       "      <td>NaN</td>\n",
       "      <td>NaN</td>\n",
       "      <td>NaN</td>\n",
       "      <td>NaN</td>\n",
       "      <td>...</td>\n",
       "      <td>Personal</td>\n",
       "      <td>NaN</td>\n",
       "      <td>2.0</td>\n",
       "      <td>0.0</td>\n",
       "      <td>0.0</td>\n",
       "      <td>0.0</td>\n",
       "      <td>IMC</td>\n",
       "      <td>Cruise</td>\n",
       "      <td>Probable Cause</td>\n",
       "      <td>12-09-2000</td>\n",
       "    </tr>\n",
       "    <tr>\n",
       "      <th>4</th>\n",
       "      <td>20041105X01764</td>\n",
       "      <td>Accident</td>\n",
       "      <td>CHI79FA064</td>\n",
       "      <td>1979-08-02</td>\n",
       "      <td>Canton, OH</td>\n",
       "      <td>United States</td>\n",
       "      <td>NaN</td>\n",
       "      <td>NaN</td>\n",
       "      <td>NaN</td>\n",
       "      <td>NaN</td>\n",
       "      <td>...</td>\n",
       "      <td>Personal</td>\n",
       "      <td>NaN</td>\n",
       "      <td>1.0</td>\n",
       "      <td>2.0</td>\n",
       "      <td>NaN</td>\n",
       "      <td>0.0</td>\n",
       "      <td>VMC</td>\n",
       "      <td>Approach</td>\n",
       "      <td>Probable Cause</td>\n",
       "      <td>16-04-1980</td>\n",
       "    </tr>\n",
       "  </tbody>\n",
       "</table>\n",
       "<p>5 rows × 31 columns</p>\n",
       "</div>"
      ],
      "text/plain": [
       "         Event.Id Investigation.Type Accident.Number  Event.Date  \\\n",
       "0  20001218X45444           Accident      SEA87LA080  1948-10-24   \n",
       "1  20001218X45447           Accident      LAX94LA336  1962-07-19   \n",
       "2  20061025X01555           Accident      NYC07LA005  1974-08-30   \n",
       "3  20001218X45448           Accident      LAX96LA321  1977-06-19   \n",
       "4  20041105X01764           Accident      CHI79FA064  1979-08-02   \n",
       "\n",
       "          Location        Country   Latitude   Longitude Airport.Code  \\\n",
       "0  MOOSE CREEK, ID  United States        NaN         NaN          NaN   \n",
       "1   BRIDGEPORT, CA  United States        NaN         NaN          NaN   \n",
       "2    Saltville, VA  United States  36.922223  -81.878056          NaN   \n",
       "3       EUREKA, CA  United States        NaN         NaN          NaN   \n",
       "4       Canton, OH  United States        NaN         NaN          NaN   \n",
       "\n",
       "  Airport.Name  ... Purpose.of.flight Air.carrier Total.Fatal.Injuries  \\\n",
       "0          NaN  ...          Personal         NaN                  2.0   \n",
       "1          NaN  ...          Personal         NaN                  4.0   \n",
       "2          NaN  ...          Personal         NaN                  3.0   \n",
       "3          NaN  ...          Personal         NaN                  2.0   \n",
       "4          NaN  ...          Personal         NaN                  1.0   \n",
       "\n",
       "  Total.Serious.Injuries Total.Minor.Injuries Total.Uninjured  \\\n",
       "0                    0.0                  0.0             0.0   \n",
       "1                    0.0                  0.0             0.0   \n",
       "2                    NaN                  NaN             NaN   \n",
       "3                    0.0                  0.0             0.0   \n",
       "4                    2.0                  NaN             0.0   \n",
       "\n",
       "  Weather.Condition  Broad.phase.of.flight   Report.Status Publication.Date  \n",
       "0               UNK                 Cruise  Probable Cause              NaN  \n",
       "1               UNK                Unknown  Probable Cause       19-09-1996  \n",
       "2               IMC                 Cruise  Probable Cause       26-02-2007  \n",
       "3               IMC                 Cruise  Probable Cause       12-09-2000  \n",
       "4               VMC               Approach  Probable Cause       16-04-1980  \n",
       "\n",
       "[5 rows x 31 columns]"
      ]
     },
     "execution_count": 2,
     "metadata": {},
     "output_type": "execute_result"
    }
   ],
   "source": [
    "Aviation_accidents_df= pd.read_csv(\"AviationData.csv\", encoding='latin-1', low_memory=False )\n",
    "print(Aviation_accidents_df.shape)\n",
    "Aviation_accidents_df.head()"
   ]
  },
  {
   "cell_type": "code",
   "execution_count": 3,
   "metadata": {},
   "outputs": [
    {
     "name": "stdout",
     "output_type": "stream",
     "text": [
      "<class 'pandas.core.frame.DataFrame'>\n",
      "RangeIndex: 88889 entries, 0 to 88888\n",
      "Data columns (total 31 columns):\n",
      " #   Column                  Non-Null Count  Dtype  \n",
      "---  ------                  --------------  -----  \n",
      " 0   Event.Id                88889 non-null  object \n",
      " 1   Investigation.Type      88889 non-null  object \n",
      " 2   Accident.Number         88889 non-null  object \n",
      " 3   Event.Date              88889 non-null  object \n",
      " 4   Location                88837 non-null  object \n",
      " 5   Country                 88663 non-null  object \n",
      " 6   Latitude                34382 non-null  object \n",
      " 7   Longitude               34373 non-null  object \n",
      " 8   Airport.Code            50249 non-null  object \n",
      " 9   Airport.Name            52790 non-null  object \n",
      " 10  Injury.Severity         87889 non-null  object \n",
      " 11  Aircraft.damage         85695 non-null  object \n",
      " 12  Aircraft.Category       32287 non-null  object \n",
      " 13  Registration.Number     87572 non-null  object \n",
      " 14  Make                    88826 non-null  object \n",
      " 15  Model                   88797 non-null  object \n",
      " 16  Amateur.Built           88787 non-null  object \n",
      " 17  Number.of.Engines       82805 non-null  float64\n",
      " 18  Engine.Type             81812 non-null  object \n",
      " 19  FAR.Description         32023 non-null  object \n",
      " 20  Schedule                12582 non-null  object \n",
      " 21  Purpose.of.flight       82697 non-null  object \n",
      " 22  Air.carrier             16648 non-null  object \n",
      " 23  Total.Fatal.Injuries    77488 non-null  float64\n",
      " 24  Total.Serious.Injuries  76379 non-null  float64\n",
      " 25  Total.Minor.Injuries    76956 non-null  float64\n",
      " 26  Total.Uninjured         82977 non-null  float64\n",
      " 27  Weather.Condition       84397 non-null  object \n",
      " 28  Broad.phase.of.flight   61724 non-null  object \n",
      " 29  Report.Status           82508 non-null  object \n",
      " 30  Publication.Date        75118 non-null  object \n",
      "dtypes: float64(5), object(26)\n",
      "memory usage: 21.0+ MB\n"
     ]
    }
   ],
   "source": [
    "#View column names and count of non-null entries.\n",
    "Aviation_accidents_df.info()"
   ]
  },
  {
   "cell_type": "markdown",
   "metadata": {},
   "source": [
    "## Data Preparation\n",
    "\n",
    "To prepare the data for analysis, we must get rid of non-null values. I also replaced the periods '.' with dashes '-' in the column names.\n",
    "\n",
    "***\n",
    "How the data was dealt with:\n",
    "* Columns that were missing more than 10% of the data and are unimportant such as longitude and latitude\n",
    "* For columns that have a few null values, the rows containing the nulls are dropped.\n",
    "* With categorical data that is important and has many missing values, they are simply kept as their own category \"missing\".\n",
    "***"
   ]
  },
  {
   "cell_type": "code",
   "execution_count": 4,
   "metadata": {},
   "outputs": [],
   "source": [
    "def renaming(name):\n",
    "    if \".\" in name:\n",
    "        name= name.replace(\".\", \"_\")\n",
    "        return name\n",
    "    else: \n",
    "        return name\n",
    "Aviation_accidents_df.rename(columns=renaming, inplace=True)"
   ]
  },
  {
   "cell_type": "code",
   "execution_count": 5,
   "metadata": {},
   "outputs": [
    {
     "data": {
      "text/plain": [
       "Index(['Event_Id', 'Investigation_Type', 'Accident_Number', 'Event_Date',\n",
       "       'Location', 'Country', 'Latitude', 'Longitude', 'Airport_Code',\n",
       "       'Airport_Name', 'Injury_Severity', 'Aircraft_damage',\n",
       "       'Aircraft_Category', 'Registration_Number', 'Make', 'Model',\n",
       "       'Amateur_Built', 'Number_of_Engines', 'Engine_Type', 'FAR_Description',\n",
       "       'Schedule', 'Purpose_of_flight', 'Air_carrier', 'Total_Fatal_Injuries',\n",
       "       'Total_Serious_Injuries', 'Total_Minor_Injuries', 'Total_Uninjured',\n",
       "       'Weather_Condition', 'Broad_phase_of_flight', 'Report_Status',\n",
       "       'Publication_Date'],\n",
       "      dtype='object')"
      ]
     },
     "execution_count": 5,
     "metadata": {},
     "output_type": "execute_result"
    }
   ],
   "source": [
    " Aviation_accidents_df.columns"
   ]
  },
  {
   "cell_type": "code",
   "execution_count": 6,
   "metadata": {},
   "outputs": [
    {
     "data": {
      "text/plain": [
       "Event_Id                      0\n",
       "Investigation_Type            0\n",
       "Accident_Number               0\n",
       "Event_Date                    0\n",
       "Location                     52\n",
       "Country                     226\n",
       "Latitude                  54507\n",
       "Longitude                 54516\n",
       "Airport_Code              38640\n",
       "Airport_Name              36099\n",
       "Injury_Severity            1000\n",
       "Aircraft_damage            3194\n",
       "Aircraft_Category         56602\n",
       "Registration_Number        1317\n",
       "Make                         63\n",
       "Model                        92\n",
       "Amateur_Built               102\n",
       "Number_of_Engines          6084\n",
       "Engine_Type                7077\n",
       "FAR_Description           56866\n",
       "Schedule                  76307\n",
       "Purpose_of_flight          6192\n",
       "Air_carrier               72241\n",
       "Total_Fatal_Injuries      11401\n",
       "Total_Serious_Injuries    12510\n",
       "Total_Minor_Injuries      11933\n",
       "Total_Uninjured            5912\n",
       "Weather_Condition          4492\n",
       "Broad_phase_of_flight     27165\n",
       "Report_Status              6381\n",
       "Publication_Date          13771\n",
       "dtype: int64"
      ]
     },
     "execution_count": 6,
     "metadata": {},
     "output_type": "execute_result"
    }
   ],
   "source": [
    "Aviation_accidents_df.isna().sum()"
   ]
  },
  {
   "cell_type": "code",
   "execution_count": 7,
   "metadata": {},
   "outputs": [],
   "source": [
    "Aviation_accidents_df.dropna(subset=[\"Location\", \"Country\", \"Make\", \"Model\", \"Amateur_Built\", \"Injury_Severity\"], inplace= True)\n",
    "#This data set contains over 80,000 records. Because of this we can drop the less than 5% of records that are missing the\n",
    "#above data"
   ]
  },
  {
   "cell_type": "code",
   "execution_count": 8,
   "metadata": {},
   "outputs": [
    {
     "name": "stdout",
     "output_type": "stream",
     "text": [
      "37496\n"
     ]
    },
    {
     "data": {
      "text/plain": [
       "NONE    1482\n",
       "PVT      485\n",
       "APA      160\n",
       "ORD      149\n",
       "MRI      137\n",
       "Name: Airport_Code, dtype: int64"
      ]
     },
     "execution_count": 8,
     "metadata": {},
     "output_type": "execute_result"
    }
   ],
   "source": [
    "print(Aviation_accidents_df[\"Airport_Code\"].isna().sum())\n",
    "Aviation_accidents_df[\"Airport_Code\"].value_counts().head()"
   ]
  },
  {
   "cell_type": "code",
   "execution_count": 9,
   "metadata": {},
   "outputs": [],
   "source": [
    "#Airport code is not important to the analysis we would like to conduct, therefore we can drop the whole column.\n",
    "Aviation_accidents_df.drop(\"Airport_Code\" , axis=1, inplace=True)"
   ]
  },
  {
   "cell_type": "code",
   "execution_count": 10,
   "metadata": {},
   "outputs": [
    {
     "name": "stdout",
     "output_type": "stream",
     "text": [
      "34991\n"
     ]
    },
    {
     "data": {
      "text/plain": [
       "Private             240\n",
       "PRIVATE             224\n",
       "Private Airstrip    153\n",
       "NONE                146\n",
       "PRIVATE STRIP       110\n",
       "Name: Airport_Name, dtype: int64"
      ]
     },
     "execution_count": 10,
     "metadata": {},
     "output_type": "execute_result"
    }
   ],
   "source": [
    "print(Aviation_accidents_df[\"Airport_Name\"].isna().sum())\n",
    "Aviation_accidents_df[\"Airport_Name\"].value_counts().head()"
   ]
  },
  {
   "cell_type": "code",
   "execution_count": 11,
   "metadata": {},
   "outputs": [],
   "source": [
    "#Airport name is not important to the analysis we would like to conduct, therefore we can drop the whole column.\n",
    "Aviation_accidents_df.drop(\"Airport_Name\" , axis=1, inplace=True)"
   ]
  },
  {
   "cell_type": "code",
   "execution_count": 12,
   "metadata": {},
   "outputs": [
    {
     "name": "stdout",
     "output_type": "stream",
     "text": [
      "2639\n"
     ]
    },
    {
     "data": {
      "text/plain": [
       "Substantial    63763\n",
       "Destroyed      18397\n",
       "Minor           2536\n",
       "Unknown           92\n",
       "Name: Aircraft_damage, dtype: int64"
      ]
     },
     "execution_count": 12,
     "metadata": {},
     "output_type": "execute_result"
    }
   ],
   "source": [
    "print(Aviation_accidents_df[\"Aircraft_damage\"].isna().sum())\n",
    "Aviation_accidents_df[\"Aircraft_damage\"].value_counts().head()"
   ]
  },
  {
   "cell_type": "code",
   "execution_count": 13,
   "metadata": {},
   "outputs": [],
   "source": [
    "Aviation_accidents_df[\"Aircraft_damage\"].fillna(\"missing\", inplace=True)"
   ]
  },
  {
   "cell_type": "code",
   "execution_count": 14,
   "metadata": {},
   "outputs": [
    {
     "name": "stdout",
     "output_type": "stream",
     "text": [
      "53338\n"
     ]
    },
    {
     "data": {
      "text/plain": [
       "332739N      19\n",
       "335219N      18\n",
       "334118N      17\n",
       "32.815556    17\n",
       "324934N      16\n",
       "Name: Latitude, dtype: int64"
      ]
     },
     "execution_count": 14,
     "metadata": {},
     "output_type": "execute_result"
    }
   ],
   "source": [
    "print(Aviation_accidents_df[\"Latitude\"].isna().sum())\n",
    "Aviation_accidents_df[\"Latitude\"].value_counts().head()"
   ]
  },
  {
   "cell_type": "code",
   "execution_count": 15,
   "metadata": {},
   "outputs": [
    {
     "name": "stdout",
     "output_type": "stream",
     "text": [
      "53347\n"
     ]
    },
    {
     "data": {
      "text/plain": [
       "0112457W       24\n",
       "1114342W       18\n",
       "-104.673056    17\n",
       "1151140W       17\n",
       "-112.0825      16\n",
       "Name: Longitude, dtype: int64"
      ]
     },
     "execution_count": 15,
     "metadata": {},
     "output_type": "execute_result"
    }
   ],
   "source": [
    "print(Aviation_accidents_df[\"Longitude\"].isna().sum())\n",
    "Aviation_accidents_df[\"Longitude\"].value_counts().head()"
   ]
  },
  {
   "cell_type": "code",
   "execution_count": 16,
   "metadata": {},
   "outputs": [],
   "source": [
    "#Because we have other indicators of location we can drop longitude and latitude\n",
    "Aviation_accidents_df.drop([\"Latitude\", \"Longitude\"], axis=1, inplace=True)"
   ]
  },
  {
   "cell_type": "code",
   "execution_count": 17,
   "metadata": {},
   "outputs": [
    {
     "name": "stdout",
     "output_type": "stream",
     "text": [
      "56103\n"
     ]
    },
    {
     "data": {
      "text/plain": [
       "Airplane      26738\n",
       "Helicopter     3361\n",
       "Glider          508\n",
       "Balloon         231\n",
       "Gyrocraft       173\n",
       "Name: Aircraft_Category, dtype: int64"
      ]
     },
     "execution_count": 17,
     "metadata": {},
     "output_type": "execute_result"
    }
   ],
   "source": [
    "print(Aviation_accidents_df[\"Aircraft_Category\"].isna().sum())\n",
    "Aviation_accidents_df[\"Aircraft_Category\"].value_counts().head()"
   ]
  },
  {
   "cell_type": "code",
   "execution_count": 18,
   "metadata": {},
   "outputs": [],
   "source": [
    "#Aircraft category is quite important therefore we keep the column and use a placeholder for the missing values.\n",
    "Aviation_accidents_df[\"Aircraft_Category\"].fillna(\"missing\", inplace=True)"
   ]
  },
  {
   "cell_type": "code",
   "execution_count": 19,
   "metadata": {},
   "outputs": [
    {
     "name": "stdout",
     "output_type": "stream",
     "text": [
      "1178\n"
     ]
    },
    {
     "data": {
      "text/plain": [
       "NONE     337\n",
       "UNREG    121\n",
       "None      64\n",
       "UNK       12\n",
       "USAF       9\n",
       "Name: Registration_Number, dtype: int64"
      ]
     },
     "execution_count": 19,
     "metadata": {},
     "output_type": "execute_result"
    }
   ],
   "source": [
    "print(Aviation_accidents_df[\"Registration_Number\"].isna().sum())\n",
    "Aviation_accidents_df[\"Registration_Number\"].value_counts().head()"
   ]
  },
  {
   "cell_type": "code",
   "execution_count": 20,
   "metadata": {},
   "outputs": [],
   "source": [
    "#Get rid of duplicates\n",
    "Aviation_accidents_df[\"Registration_Number\"]= Aviation_accidents_df[\"Registration_Number\"].replace(\"None\", \"NONE\")"
   ]
  },
  {
   "cell_type": "code",
   "execution_count": 21,
   "metadata": {},
   "outputs": [],
   "source": [
    "# For registration number we can use a placeholder because less than 10% of the data is missing.\n",
    "Aviation_accidents_df[\"Registration_Number\"].fillna(\"missing\", inplace=True)"
   ]
  },
  {
   "cell_type": "code",
   "execution_count": 22,
   "metadata": {},
   "outputs": [
    {
     "name": "stdout",
     "output_type": "stream",
     "text": [
      "5212\n"
     ]
    },
    {
     "data": {
      "text/plain": [
       "1.0    69332\n",
       "2.0    10778\n",
       "0.0     1220\n",
       "3.0      475\n",
       "4.0      406\n",
       "Name: Number_of_Engines, dtype: int64"
      ]
     },
     "execution_count": 22,
     "metadata": {},
     "output_type": "execute_result"
    }
   ],
   "source": [
    "print(Aviation_accidents_df[\"Number_of_Engines\"].isna().sum())\n",
    "Aviation_accidents_df[\"Number_of_Engines\"].value_counts().head()"
   ]
  },
  {
   "cell_type": "code",
   "execution_count": 23,
   "metadata": {},
   "outputs": [
    {
     "data": {
      "text/plain": [
       "1.0    0.843301\n",
       "2.0    0.131095\n",
       "0.0    0.014839\n",
       "3.0    0.005778\n",
       "4.0    0.004938\n",
       "8.0    0.000036\n",
       "6.0    0.000012\n",
       "Name: Number_of_Engines, dtype: float64"
      ]
     },
     "execution_count": 23,
     "metadata": {},
     "output_type": "execute_result"
    }
   ],
   "source": [
    "#Number of engines could be important data, therefore we randomly replace missing values with one of the options\n",
    "Aviation_accidents_df[\"Number_of_Engines\"].value_counts(normalize=True)"
   ]
  },
  {
   "cell_type": "code",
   "execution_count": 24,
   "metadata": {},
   "outputs": [],
   "source": [
    "a= list(Aviation_accidents_df[\"Number_of_Engines\"].value_counts(normalize=True).keys())\n",
    "p= [i for i in Aviation_accidents_df[\"Number_of_Engines\"].value_counts(normalize=True)]"
   ]
  },
  {
   "cell_type": "code",
   "execution_count": 25,
   "metadata": {},
   "outputs": [],
   "source": [
    "def assign_num_of_engines(value):\n",
    "    if value not in a:\n",
    "        return np.random.choice(a,p=p)\n",
    "    else:\n",
    "        return value    \n",
    "\n",
    "Aviation_accidents_df.Number_of_Engines=Aviation_accidents_df.Number_of_Engines.map(lambda x: assign_num_of_engines(x))\n",
    "                    \n"
   ]
  },
  {
   "cell_type": "code",
   "execution_count": 26,
   "metadata": {},
   "outputs": [
    {
     "name": "stdout",
     "output_type": "stream",
     "text": [
      "6136\n"
     ]
    },
    {
     "data": {
      "text/plain": [
       "Reciprocating      69336\n",
       "Turbo Shaft         3512\n",
       "Turbo Prop          3359\n",
       "Turbo Fan           2341\n",
       "Unknown             2013\n",
       "Turbo Jet            696\n",
       "None                  19\n",
       "Electric               8\n",
       "NONE                   2\n",
       "LR                     2\n",
       "Geared Turbofan        1\n",
       "Hybrid Rocket          1\n",
       "UNK                    1\n",
       "Name: Engine_Type, dtype: int64"
      ]
     },
     "execution_count": 26,
     "metadata": {},
     "output_type": "execute_result"
    }
   ],
   "source": [
    "print(Aviation_accidents_df[\"Engine_Type\"].isna().sum())\n",
    "Aviation_accidents_df[\"Engine_Type\"].value_counts()"
   ]
  },
  {
   "cell_type": "code",
   "execution_count": 27,
   "metadata": {},
   "outputs": [],
   "source": [
    "# For Engine type we can use a placeholder because less than 10% of the data is missing.\n",
    "Aviation_accidents_df[\"Engine_Type\"].fillna(\"Unkwown\", inplace=True)"
   ]
  },
  {
   "cell_type": "code",
   "execution_count": 28,
   "metadata": {},
   "outputs": [
    {
     "name": "stdout",
     "output_type": "stream",
     "text": [
      "56309\n"
     ]
    },
    {
     "data": {
      "text/plain": [
       "091                          18193\n",
       "Part 91: General Aviation     6448\n",
       "NUSN                          1456\n",
       "137                           1010\n",
       "135                            738\n",
       "Name: FAR_Description, dtype: int64"
      ]
     },
     "execution_count": 28,
     "metadata": {},
     "output_type": "execute_result"
    }
   ],
   "source": [
    "print(Aviation_accidents_df[\"FAR_Description\"].isna().sum())\n",
    "Aviation_accidents_df[\"FAR_Description\"].value_counts().head()"
   ]
  },
  {
   "cell_type": "code",
   "execution_count": 29,
   "metadata": {},
   "outputs": [],
   "source": [
    "#FAR description does not make sense to us, so it is dropped\n",
    "Aviation_accidents_df.drop(\"FAR_Description\", axis=1, inplace= True)"
   ]
  },
  {
   "cell_type": "code",
   "execution_count": 30,
   "metadata": {},
   "outputs": [
    {
     "name": "stdout",
     "output_type": "stream",
     "text": [
      "75464\n"
     ]
    },
    {
     "data": {
      "text/plain": [
       "NSCH    4314\n",
       "UNK     4082\n",
       "SCHD    3567\n",
       "Name: Schedule, dtype: int64"
      ]
     },
     "execution_count": 30,
     "metadata": {},
     "output_type": "execute_result"
    }
   ],
   "source": [
    "print(Aviation_accidents_df[\"Schedule\"].isna().sum())\n",
    "Aviation_accidents_df[\"Schedule\"].value_counts().head()"
   ]
  },
  {
   "cell_type": "code",
   "execution_count": 31,
   "metadata": {},
   "outputs": [],
   "source": [
    "# The schedule is unimportant to our analysis, so it is dropped\n",
    "Aviation_accidents_df.drop(\"Schedule\", axis=1, inplace= True)"
   ]
  },
  {
   "cell_type": "code",
   "execution_count": 32,
   "metadata": {},
   "outputs": [
    {
     "name": "stdout",
     "output_type": "stream",
     "text": [
      "5132\n"
     ]
    },
    {
     "data": {
      "text/plain": [
       "Personal              49317\n",
       "Instructional         10575\n",
       "Unknown                6644\n",
       "Aerial Application     4709\n",
       "Business               3996\n",
       "Name: Purpose_of_flight, dtype: int64"
      ]
     },
     "execution_count": 32,
     "metadata": {},
     "output_type": "execute_result"
    }
   ],
   "source": [
    "print(Aviation_accidents_df[\"Purpose_of_flight\"].isna().sum())\n",
    "Aviation_accidents_df[\"Purpose_of_flight\"].value_counts().head()"
   ]
  },
  {
   "cell_type": "code",
   "execution_count": 33,
   "metadata": {},
   "outputs": [],
   "source": [
    "# For purpose of flight we can use a placeholder because less than 10% of the data is missing and it is important.\n",
    "Aviation_accidents_df[\"Purpose_of_flight\"].fillna(\"unkwown\", inplace=True)"
   ]
  },
  {
   "cell_type": "code",
   "execution_count": 34,
   "metadata": {},
   "outputs": [
    {
     "name": "stdout",
     "output_type": "stream",
     "text": [
      "71390\n"
     ]
    },
    {
     "data": {
      "text/plain": [
       "Pilot                              258\n",
       "United Airlines                     80\n",
       "American Airlines                   76\n",
       "Delta Air Lines                     45\n",
       "SOUTHWEST AIRLINES CO               41\n",
       "                                  ... \n",
       "Hageland Aviation Services, Inc      1\n",
       "Mtn Aviation Llc                     1\n",
       "Avior Airlines                       1\n",
       "Air China Airlines                   1\n",
       "Donald J. Banks                      1\n",
       "Name: Air_carrier, Length: 13284, dtype: int64"
      ]
     },
     "execution_count": 34,
     "metadata": {},
     "output_type": "execute_result"
    }
   ],
   "source": [
    "print(Aviation_accidents_df[\"Air_carrier\"].isna().sum())\n",
    "Aviation_accidents_df[\"Air_carrier\"].value_counts()"
   ]
  },
  {
   "cell_type": "code",
   "execution_count": 35,
   "metadata": {},
   "outputs": [],
   "source": [
    "# This data is unimportant to a company looking to enter the world of aviation, so it can be dropped\n",
    "Aviation_accidents_df.drop(\"Air_carrier\", axis=1, inplace= True)"
   ]
  },
  {
   "cell_type": "code",
   "execution_count": 36,
   "metadata": {},
   "outputs": [
    {
     "name": "stdout",
     "output_type": "stream",
     "text": [
      "0.648171500630517\n",
      "0.0\n",
      "0    0.0\n",
      "dtype: float64\n"
     ]
    },
    {
     "data": {
      "text/plain": [
       "0.0      58459\n",
       "1.0       8828\n",
       "2.0       5134\n",
       "3.0       1568\n",
       "4.0       1095\n",
       "         ...  \n",
       "124.0        1\n",
       "162.0        1\n",
       "169.0        1\n",
       "150.0        1\n",
       "156.0        1\n",
       "Name: Total_Fatal_Injuries, Length: 123, dtype: int64"
      ]
     },
     "execution_count": 36,
     "metadata": {},
     "output_type": "execute_result"
    }
   ],
   "source": [
    "print(Aviation_accidents_df[\"Total_Fatal_Injuries\"].mean())\n",
    "print(Aviation_accidents_df[\"Total_Fatal_Injuries\"].median())\n",
    "print(Aviation_accidents_df[\"Total_Fatal_Injuries\"].mode())\n",
    "Aviation_accidents_df[\"Total_Fatal_Injuries\"].value_counts()#.head()"
   ]
  },
  {
   "cell_type": "code",
   "execution_count": 37,
   "metadata": {},
   "outputs": [
    {
     "name": "stdout",
     "output_type": "stream",
     "text": [
      "0.282375514663753\n",
      "0.0\n",
      "0    0.0\n",
      "dtype: float64\n"
     ]
    },
    {
     "data": {
      "text/plain": [
       "0.0    62034\n",
       "1.0     9076\n",
       "2.0     2804\n",
       "3.0      625\n",
       "4.0      255\n",
       "Name: Total_Serious_Injuries, dtype: int64"
      ]
     },
     "execution_count": 37,
     "metadata": {},
     "output_type": "execute_result"
    }
   ],
   "source": [
    "print(Aviation_accidents_df[\"Total_Serious_Injuries\"].mean())\n",
    "print(Aviation_accidents_df[\"Total_Serious_Injuries\"].median())\n",
    "print(Aviation_accidents_df[\"Total_Serious_Injuries\"].mode())\n",
    "Aviation_accidents_df[\"Total_Serious_Injuries\"].value_counts().head()"
   ]
  },
  {
   "cell_type": "code",
   "execution_count": 38,
   "metadata": {},
   "outputs": [
    {
     "name": "stdout",
     "output_type": "stream",
     "text": [
      "0.3609546476266032\n",
      "0.0\n",
      "0    0.0\n",
      "dtype: float64\n"
     ]
    },
    {
     "data": {
      "text/plain": [
       "0.0    60209\n",
       "1.0    10277\n",
       "2.0     3557\n",
       "3.0      778\n",
       "4.0      365\n",
       "Name: Total_Minor_Injuries, dtype: int64"
      ]
     },
     "execution_count": 38,
     "metadata": {},
     "output_type": "execute_result"
    }
   ],
   "source": [
    "print(Aviation_accidents_df[\"Total_Minor_Injuries\"].mean())\n",
    "print(Aviation_accidents_df[\"Total_Minor_Injuries\"].median())\n",
    "print(Aviation_accidents_df[\"Total_Minor_Injuries\"].mode())\n",
    "Aviation_accidents_df[\"Total_Minor_Injuries\"].value_counts().head()"
   ]
  },
  {
   "cell_type": "code",
   "execution_count": 39,
   "metadata": {},
   "outputs": [
    {
     "name": "stdout",
     "output_type": "stream",
     "text": [
      "5.357867522728943\n",
      "1.0\n",
      "0    0.0\n",
      "dtype: float64\n"
     ]
    },
    {
     "data": {
      "text/plain": [
       "0.0    28720\n",
       "1.0    25042\n",
       "2.0    15937\n",
       "3.0     4295\n",
       "4.0     2645\n",
       "Name: Total_Uninjured, dtype: int64"
      ]
     },
     "execution_count": 39,
     "metadata": {},
     "output_type": "execute_result"
    }
   ],
   "source": [
    "print(Aviation_accidents_df[\"Total_Uninjured\"].mean())\n",
    "print(Aviation_accidents_df[\"Total_Uninjured\"].median())\n",
    "print(Aviation_accidents_df[\"Total_Uninjured\"].mode())\n",
    "Aviation_accidents_df[\"Total_Uninjured\"].value_counts().head()"
   ]
  },
  {
   "cell_type": "code",
   "execution_count": 40,
   "metadata": {},
   "outputs": [],
   "source": [
    "#replacing the categories with the median\n",
    "Aviation_accidents_df[\"Total_Fatal_Injuries\"].fillna(Aviation_accidents_df[\"Total_Fatal_Injuries\"].median(), inplace=True)\n",
    "Aviation_accidents_df[\"Total_Serious_Injuries\"].fillna(Aviation_accidents_df[\"Total_Serious_Injuries\"].median(), inplace=True)\n",
    "Aviation_accidents_df[\"Total_Minor_Injuries\"].fillna(Aviation_accidents_df[\"Total_Minor_Injuries\"].median(), inplace=True)\n",
    "Aviation_accidents_df[\"Total_Uninjured\"].fillna(Aviation_accidents_df[\"Total_Uninjured\"].median(), inplace=True)"
   ]
  },
  {
   "cell_type": "code",
   "execution_count": 41,
   "metadata": {},
   "outputs": [
    {
     "name": "stdout",
     "output_type": "stream",
     "text": [
      "3480\n"
     ]
    },
    {
     "data": {
      "text/plain": [
       "VMC    76948\n",
       "IMC     5939\n",
       "UNK      823\n",
       "Unk      237\n",
       "Name: Weather_Condition, dtype: int64"
      ]
     },
     "execution_count": 41,
     "metadata": {},
     "output_type": "execute_result"
    }
   ],
   "source": [
    "print(Aviation_accidents_df[\"Weather_Condition\"].isna().sum())\n",
    "Aviation_accidents_df[\"Weather_Condition\"].value_counts()"
   ]
  },
  {
   "cell_type": "code",
   "execution_count": 42,
   "metadata": {},
   "outputs": [],
   "source": [
    "# For weather condition we can use a placeholder because less than 10% \n",
    "Aviation_accidents_df[\"Weather_Condition\"].fillna(\"Unk\", inplace= True)"
   ]
  },
  {
   "cell_type": "code",
   "execution_count": 43,
   "metadata": {},
   "outputs": [],
   "source": [
    "#Removing duplicates\n",
    "Aviation_accidents_df[\"Weather_Condition\"]=Aviation_accidents_df[\"Weather_Condition\"].replace(\"UKN\", \"Unk\")"
   ]
  },
  {
   "cell_type": "code",
   "execution_count": 44,
   "metadata": {},
   "outputs": [
    {
     "name": "stdout",
     "output_type": "stream",
     "text": [
      "25991\n"
     ]
    },
    {
     "data": {
      "text/plain": [
       "Landing        15382\n",
       "Takeoff        12435\n",
       "Cruise         10206\n",
       "Maneuvering     8113\n",
       "Approach        6517\n",
       "Climb           2018\n",
       "Taxi            1950\n",
       "Descent         1874\n",
       "Go-around       1351\n",
       "Standing         934\n",
       "Unknown          537\n",
       "Other            119\n",
       "Name: Broad_phase_of_flight, dtype: int64"
      ]
     },
     "execution_count": 44,
     "metadata": {},
     "output_type": "execute_result"
    }
   ],
   "source": [
    "print(Aviation_accidents_df[\"Broad_phase_of_flight\"].isna().sum())\n",
    "Aviation_accidents_df[\"Broad_phase_of_flight\"].value_counts()"
   ]
  },
  {
   "cell_type": "code",
   "execution_count": 45,
   "metadata": {},
   "outputs": [],
   "source": [
    "#\n",
    "Aviation_accidents_df[\"Broad_phase_of_flight\"].fillna(\"Unknown\", inplace= True)"
   ]
  },
  {
   "cell_type": "code",
   "execution_count": 46,
   "metadata": {},
   "outputs": [
    {
     "name": "stdout",
     "output_type": "stream",
     "text": [
      "5442\n"
     ]
    },
    {
     "data": {
      "text/plain": [
       "Probable Cause                                                                  61466\n",
       "Foreign                                                                          1864\n",
       "<br /><br />                                                                      145\n",
       "Factual                                                                           143\n",
       "The pilot's failure to maintain directional control during the landing roll.       56\n",
       "Name: Report_Status, dtype: int64"
      ]
     },
     "execution_count": 46,
     "metadata": {},
     "output_type": "execute_result"
    }
   ],
   "source": [
    "print(Aviation_accidents_df[\"Report_Status\"].isna().sum())\n",
    "Aviation_accidents_df[\"Report_Status\"].value_counts().head()"
   ]
  },
  {
   "cell_type": "code",
   "execution_count": 47,
   "metadata": {},
   "outputs": [],
   "source": [
    "Aviation_accidents_df[\"Report_Status\"].fillna(\"N/A\", inplace= True)"
   ]
  },
  {
   "cell_type": "code",
   "execution_count": 48,
   "metadata": {},
   "outputs": [
    {
     "name": "stdout",
     "output_type": "stream",
     "text": [
      "13415\n"
     ]
    },
    {
     "data": {
      "text/plain": [
       "25-09-2020    16591\n",
       "26-09-2020     1620\n",
       "03-11-2020      979\n",
       "31-03-1993      450\n",
       "25-11-2003      395\n",
       "              ...  \n",
       "30-10-1996        1\n",
       "23-09-2019        1\n",
       "02-12-2002        1\n",
       "18-03-2021        1\n",
       "08-04-2021        1\n",
       "Name: Publication_Date, Length: 2877, dtype: int64"
      ]
     },
     "execution_count": 48,
     "metadata": {},
     "output_type": "execute_result"
    }
   ],
   "source": [
    "print(Aviation_accidents_df[\"Publication_Date\"].isna().sum())\n",
    "Aviation_accidents_df[\"Publication_Date\"].value_counts()"
   ]
  },
  {
   "cell_type": "code",
   "execution_count": 49,
   "metadata": {},
   "outputs": [],
   "source": [
    "Aviation_accidents_df[\"Publication_Date\"].fillna(\"01-01-0001\", inplace= True)"
   ]
  },
  {
   "cell_type": "code",
   "execution_count": 50,
   "metadata": {},
   "outputs": [
    {
     "data": {
      "text/plain": [
       "0"
      ]
     },
     "execution_count": 50,
     "metadata": {},
     "output_type": "execute_result"
    }
   ],
   "source": [
    "Aviation_accidents_df.isna().sum().sum()"
   ]
  },
  {
   "cell_type": "markdown",
   "metadata": {},
   "source": [
    "## Data Modeling\n",
    "Describe and justify the process for analyzing or modeling the data.\n",
    "\n",
    "***\n",
    "Questions to consider:\n",
    "* How did you analyze or model the data?\n",
    "* How did you iterate on your initial approach to make it better?\n",
    "* Why are these choices appropriate given the data and the business problem?\n",
    "***"
   ]
  },
  {
   "cell_type": "code",
   "execution_count": 51,
   "metadata": {},
   "outputs": [],
   "source": [
    "Aviation_accidents_df[\"Make\"]= Aviation_accidents_df[\"Make\"].apply(lambda x: x.title())"
   ]
  },
  {
   "cell_type": "code",
   "execution_count": 52,
   "metadata": {},
   "outputs": [
    {
     "data": {
      "text/plain": [
       "Text(0.5, 1.0, 'Distribution of accidents by make')"
      ]
     },
     "execution_count": 52,
     "metadata": {},
     "output_type": "execute_result"
    },
    {
     "data": {
      "image/png": "[encoded data removed]",
      "text/plain": [
       "<Figure size 1152x360 with 1 Axes>"
      ]
     },
     "metadata": {
      "needs_background": "light"
     },
     "output_type": "display_data"
    }
   ],
   "source": [
    "# Run the code to model the data\n",
    "fig, ax= plt.subplots(figsize=(16, 5))\n",
    "\n",
    "aircraft_makes = Aviation_accidents_df[\"Make\"].value_counts().iloc[:10]\n",
    "\n",
    "# Plot data\n",
    "ax.bar(aircraft_makes.index, aircraft_makes.values)\n",
    "\n",
    "# Customize appearance\n",
    "ax.tick_params(axis=\"x\", labelrotation=90)\n",
    "ax.set_ylabel(\"Count of accidents\")\n",
    "ax.set_title(\"Distribution of accidents by make\")"
   ]
  },
  {
   "cell_type": "markdown",
   "metadata": {},
   "source": [
    "## Evaluation\n",
    "The results show that the company should avoid Cessna and Piper when acquiring aircrafts. \n",
    "\n",
    "\n"
   ]
  },
  {
   "cell_type": "markdown",
   "metadata": {},
   "source": [
    "## Conclusions\n",
    "In conclusion I woould recommend that the business go ahead and get an aircraft that is not manufactured by either Cessna or Piper to begin their venture. \n",
    "In Future I would include counts of aircrafts with the same make in order to more definetively determine which aircrafts are in more accidents in proportion to their numbers.\n",
    "\n"
   ]
  }
 ],
 "metadata": {
  "kernelspec": {
   "display_name": "Python 3",
   "language": "python",
   "name": "python3"
  },
  "language_info": {
   "codemirror_mode": {
    "name": "ipython",
    "version": 3
   },
   "file_extension": ".py",
   "mimetype": "text/x-python",
   "name": "python",
   "nbconvert_exporter": "python",
   "pygments_lexer": "ipython3",
   "version": "3.8.5"
  }
 },
 "nbformat": 4,
 "nbformat_minor": 4
}
